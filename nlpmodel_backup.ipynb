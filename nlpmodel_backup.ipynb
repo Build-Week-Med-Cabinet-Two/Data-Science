{
 "cells": [
  {
   "cell_type": "code",
   "execution_count": 20,
   "metadata": {},
   "outputs": [
    {
     "name": "stdout",
     "output_type": "stream",
     "text": [
      "(2351, 6)\n"
     ]
    },
    {
     "data": {
      "text/html": [
       "<div>\n",
       "<style scoped>\n",
       "    .dataframe tbody tr th:only-of-type {\n",
       "        vertical-align: middle;\n",
       "    }\n",
       "\n",
       "    .dataframe tbody tr th {\n",
       "        vertical-align: top;\n",
       "    }\n",
       "\n",
       "    .dataframe thead th {\n",
       "        text-align: right;\n",
       "    }\n",
       "</style>\n",
       "<table border=\"1\" class=\"dataframe\">\n",
       "  <thead>\n",
       "    <tr style=\"text-align: right;\">\n",
       "      <th></th>\n",
       "      <th>Strain</th>\n",
       "      <th>Type</th>\n",
       "      <th>Rating</th>\n",
       "      <th>Effects</th>\n",
       "      <th>Flavor</th>\n",
       "      <th>Description</th>\n",
       "    </tr>\n",
       "  </thead>\n",
       "  <tbody>\n",
       "    <tr>\n",
       "      <th>0</th>\n",
       "      <td>100-Og</td>\n",
       "      <td>hybrid</td>\n",
       "      <td>4.0</td>\n",
       "      <td>Creative,Energetic,Tingly,Euphoric,Relaxed</td>\n",
       "      <td>Earthy,Sweet,Citrus</td>\n",
       "      <td>$100 OG is a 50/50 hybrid strain that packs a ...</td>\n",
       "    </tr>\n",
       "    <tr>\n",
       "      <th>1</th>\n",
       "      <td>98-White-Widow</td>\n",
       "      <td>hybrid</td>\n",
       "      <td>4.7</td>\n",
       "      <td>Relaxed,Aroused,Creative,Happy,Energetic</td>\n",
       "      <td>Flowery,Violet,Diesel</td>\n",
       "      <td>The ‘98 Aloha White Widow is an especially pot...</td>\n",
       "    </tr>\n",
       "    <tr>\n",
       "      <th>2</th>\n",
       "      <td>1024</td>\n",
       "      <td>sativa</td>\n",
       "      <td>4.4</td>\n",
       "      <td>Uplifted,Happy,Relaxed,Energetic,Creative</td>\n",
       "      <td>Spicy/Herbal,Sage,Woody</td>\n",
       "      <td>1024 is a sativa-dominant hybrid bred in Spain...</td>\n",
       "    </tr>\n",
       "    <tr>\n",
       "      <th>3</th>\n",
       "      <td>13-Dawgs</td>\n",
       "      <td>hybrid</td>\n",
       "      <td>4.2</td>\n",
       "      <td>Tingly,Creative,Hungry,Relaxed,Uplifted</td>\n",
       "      <td>Apricot,Citrus,Grapefruit</td>\n",
       "      <td>13 Dawgs is a hybrid of G13 and Chemdawg genet...</td>\n",
       "    </tr>\n",
       "    <tr>\n",
       "      <th>4</th>\n",
       "      <td>24K-Gold</td>\n",
       "      <td>hybrid</td>\n",
       "      <td>4.6</td>\n",
       "      <td>Happy,Relaxed,Euphoric,Uplifted,Talkative</td>\n",
       "      <td>Citrus,Earthy,Orange</td>\n",
       "      <td>Also known as Kosher Tangie, 24k Gold is a 60%...</td>\n",
       "    </tr>\n",
       "  </tbody>\n",
       "</table>\n",
       "</div>"
      ],
      "text/plain": [
       "           Strain    Type  Rating                                     Effects  \\\n",
       "0          100-Og  hybrid     4.0  Creative,Energetic,Tingly,Euphoric,Relaxed   \n",
       "1  98-White-Widow  hybrid     4.7    Relaxed,Aroused,Creative,Happy,Energetic   \n",
       "2            1024  sativa     4.4   Uplifted,Happy,Relaxed,Energetic,Creative   \n",
       "3        13-Dawgs  hybrid     4.2     Tingly,Creative,Hungry,Relaxed,Uplifted   \n",
       "4        24K-Gold  hybrid     4.6   Happy,Relaxed,Euphoric,Uplifted,Talkative   \n",
       "\n",
       "                      Flavor  \\\n",
       "0        Earthy,Sweet,Citrus   \n",
       "1      Flowery,Violet,Diesel   \n",
       "2    Spicy/Herbal,Sage,Woody   \n",
       "3  Apricot,Citrus,Grapefruit   \n",
       "4       Citrus,Earthy,Orange   \n",
       "\n",
       "                                         Description  \n",
       "0  $100 OG is a 50/50 hybrid strain that packs a ...  \n",
       "1  The ‘98 Aloha White Widow is an especially pot...  \n",
       "2  1024 is a sativa-dominant hybrid bred in Spain...  \n",
       "3  13 Dawgs is a hybrid of G13 and Chemdawg genet...  \n",
       "4  Also known as Kosher Tangie, 24k Gold is a 60%...  "
      ]
     },
     "execution_count": 20,
     "metadata": {},
     "output_type": "execute_result"
    }
   ],
   "source": [
    "import pandas as pd\n",
    "can = pd.read_csv('can.csv')\n",
    "print(can.shape)\n",
    "can.head()"
   ]
  },
  {
   "cell_type": "code",
   "execution_count": 21,
   "metadata": {},
   "outputs": [
    {
     "data": {
      "text/plain": [
       "Strain          0\n",
       "Type            0\n",
       "Rating          0\n",
       "Effects         0\n",
       "Flavor         46\n",
       "Description    33\n",
       "dtype: int64"
      ]
     },
     "execution_count": 21,
     "metadata": {},
     "output_type": "execute_result"
    }
   ],
   "source": [
    "can.isnull().sum()"
   ]
  },
  {
   "cell_type": "code",
   "execution_count": 22,
   "metadata": {},
   "outputs": [],
   "source": [
    "# Replace any nan values with whitespace (will be stripped in tokenization)\n",
    "can.Flavor = can.Flavor.fillna(' ')\n",
    "can.Description = can.Description.fillna('')"
   ]
  },
  {
   "cell_type": "code",
   "execution_count": 23,
   "metadata": {},
   "outputs": [],
   "source": [
    "# Create new series with information\n",
    "\n",
    "can['total_text'] = can.Strain + can.Effects + can.Flavor + can['Description']"
   ]
  },
  {
   "cell_type": "code",
   "execution_count": 25,
   "metadata": {},
   "outputs": [],
   "source": [
    "# Inialize spaCy model and tokenizer\n",
    "import spacy\n",
    "from spacy.tokenizer import Tokenizer\n",
    "nlp = spacy.load(\"en_core_web_lg\")\n",
    "tokenizer = Tokenizer(nlp.vocab)"
   ]
  },
  {
   "cell_type": "code",
   "execution_count": 29,
   "metadata": {},
   "outputs": [],
   "source": [
    "stop_words = nlp.Defaults.stop_words.union({'$', '', None,'...'})"
   ]
  },
  {
   "cell_type": "code",
   "execution_count": 30,
   "metadata": {},
   "outputs": [
    {
     "data": {
      "text/plain": [
       "0    [100-ogcreative,energetic,tingly,euphoric,rela...\n",
       "1    [98-white-widowrelaxed,aroused,creative,happy,...\n",
       "2    [1024uplifted,happy,relaxed,energetic,creative...\n",
       "3    [13-dawgstingly,creative,hungry,relaxed,uplift...\n",
       "4    [24k-goldhappy,relaxed,euphoric,uplifted,talka...\n",
       "Name: spaCy_tokens, dtype: object"
      ]
     },
     "execution_count": 30,
     "metadata": {},
     "output_type": "execute_result"
    }
   ],
   "source": [
    "tokens = []\n",
    "    # Return lower case tokens and ignore stop words/punctuation\n",
    "for doc in tokenizer.pipe(can['total_text'], batch_size=5):\n",
    "    \n",
    "    doc_tokens = []\n",
    "    \n",
    "    for token in doc:\n",
    "        if (token.text not in stop_words) & (token.is_punct == False) & (token.is_space == False) & (token.is_digit == False):\n",
    "                    doc_tokens.append(token.text.lower())\n",
    "\n",
    "    tokens.append(doc_tokens)\n",
    "    \n",
    "can['spaCy_tokens'] = tokens\n",
    "can['spaCy_tokens'].head()\n",
    "       "
   ]
  },
  {
   "cell_type": "code",
   "execution_count": null,
   "metadata": {},
   "outputs": [],
   "source": [
    "# Save cleaned df to use in database\n",
    "\n",
    "# can.to_csv('canabis.csv')"
   ]
  },
  {
   "cell_type": "code",
   "execution_count": 3,
   "metadata": {},
   "outputs": [
    {
     "data": {
      "text/html": [
       "<div>\n",
       "<style scoped>\n",
       "    .dataframe tbody tr th:only-of-type {\n",
       "        vertical-align: middle;\n",
       "    }\n",
       "\n",
       "    .dataframe tbody tr th {\n",
       "        vertical-align: top;\n",
       "    }\n",
       "\n",
       "    .dataframe thead th {\n",
       "        text-align: right;\n",
       "    }\n",
       "</style>\n",
       "<table border=\"1\" class=\"dataframe\">\n",
       "  <thead>\n",
       "    <tr style=\"text-align: right;\">\n",
       "      <th></th>\n",
       "      <th>Unnamed: 0</th>\n",
       "      <th>Strain</th>\n",
       "      <th>Type</th>\n",
       "      <th>Rating</th>\n",
       "      <th>Effects</th>\n",
       "      <th>Flavor</th>\n",
       "      <th>Description</th>\n",
       "      <th>total_text</th>\n",
       "      <th>spaCy_tokens</th>\n",
       "    </tr>\n",
       "  </thead>\n",
       "  <tbody>\n",
       "    <tr>\n",
       "      <th>0</th>\n",
       "      <td>0</td>\n",
       "      <td>100-Og</td>\n",
       "      <td>hybrid</td>\n",
       "      <td>4.0</td>\n",
       "      <td>Creative,Energetic,Tingly,Euphoric,Relaxed</td>\n",
       "      <td>Earthy,Sweet,Citrus</td>\n",
       "      <td>$100 OG is a 50/50 hybrid strain that packs a ...</td>\n",
       "      <td>100-OgCreative,Energetic,Tingly,Euphoric,Relax...</td>\n",
       "      <td>['100-ogcreative,energetic,tingly,euphoric,rel...</td>\n",
       "    </tr>\n",
       "    <tr>\n",
       "      <th>1</th>\n",
       "      <td>1</td>\n",
       "      <td>98-White-Widow</td>\n",
       "      <td>hybrid</td>\n",
       "      <td>4.7</td>\n",
       "      <td>Relaxed,Aroused,Creative,Happy,Energetic</td>\n",
       "      <td>Flowery,Violet,Diesel</td>\n",
       "      <td>The ‘98 Aloha White Widow is an especially pot...</td>\n",
       "      <td>98-White-WidowRelaxed,Aroused,Creative,Happy,E...</td>\n",
       "      <td>['98-white-widowrelaxed,aroused,creative,happy...</td>\n",
       "    </tr>\n",
       "    <tr>\n",
       "      <th>2</th>\n",
       "      <td>2</td>\n",
       "      <td>1024</td>\n",
       "      <td>sativa</td>\n",
       "      <td>4.4</td>\n",
       "      <td>Uplifted,Happy,Relaxed,Energetic,Creative</td>\n",
       "      <td>Spicy/Herbal,Sage,Woody</td>\n",
       "      <td>1024 is a sativa-dominant hybrid bred in Spain...</td>\n",
       "      <td>1024Uplifted,Happy,Relaxed,Energetic,Creative1...</td>\n",
       "      <td>['1024uplifted,happy,relaxed,energetic,creativ...</td>\n",
       "    </tr>\n",
       "    <tr>\n",
       "      <th>3</th>\n",
       "      <td>3</td>\n",
       "      <td>13-Dawgs</td>\n",
       "      <td>hybrid</td>\n",
       "      <td>4.2</td>\n",
       "      <td>Tingly,Creative,Hungry,Relaxed,Uplifted</td>\n",
       "      <td>Apricot,Citrus,Grapefruit</td>\n",
       "      <td>13 Dawgs is a hybrid of G13 and Chemdawg genet...</td>\n",
       "      <td>13-DawgsTingly,Creative,Hungry,Relaxed,Uplifte...</td>\n",
       "      <td>['13-dawgstingly,creative,hungry,relaxed,uplif...</td>\n",
       "    </tr>\n",
       "    <tr>\n",
       "      <th>4</th>\n",
       "      <td>4</td>\n",
       "      <td>24K-Gold</td>\n",
       "      <td>hybrid</td>\n",
       "      <td>4.6</td>\n",
       "      <td>Happy,Relaxed,Euphoric,Uplifted,Talkative</td>\n",
       "      <td>Citrus,Earthy,Orange</td>\n",
       "      <td>Also known as Kosher Tangie, 24k Gold is a 60%...</td>\n",
       "      <td>24K-GoldHappy,Relaxed,Euphoric,Uplifted,Talkat...</td>\n",
       "      <td>['24k-goldhappy,relaxed,euphoric,uplifted,talk...</td>\n",
       "    </tr>\n",
       "  </tbody>\n",
       "</table>\n",
       "</div>"
      ],
      "text/plain": [
       "   Unnamed: 0          Strain    Type  Rating  \\\n",
       "0           0          100-Og  hybrid     4.0   \n",
       "1           1  98-White-Widow  hybrid     4.7   \n",
       "2           2            1024  sativa     4.4   \n",
       "3           3        13-Dawgs  hybrid     4.2   \n",
       "4           4        24K-Gold  hybrid     4.6   \n",
       "\n",
       "                                      Effects                     Flavor  \\\n",
       "0  Creative,Energetic,Tingly,Euphoric,Relaxed        Earthy,Sweet,Citrus   \n",
       "1    Relaxed,Aroused,Creative,Happy,Energetic      Flowery,Violet,Diesel   \n",
       "2   Uplifted,Happy,Relaxed,Energetic,Creative    Spicy/Herbal,Sage,Woody   \n",
       "3     Tingly,Creative,Hungry,Relaxed,Uplifted  Apricot,Citrus,Grapefruit   \n",
       "4   Happy,Relaxed,Euphoric,Uplifted,Talkative       Citrus,Earthy,Orange   \n",
       "\n",
       "                                         Description  \\\n",
       "0  $100 OG is a 50/50 hybrid strain that packs a ...   \n",
       "1  The ‘98 Aloha White Widow is an especially pot...   \n",
       "2  1024 is a sativa-dominant hybrid bred in Spain...   \n",
       "3  13 Dawgs is a hybrid of G13 and Chemdawg genet...   \n",
       "4  Also known as Kosher Tangie, 24k Gold is a 60%...   \n",
       "\n",
       "                                          total_text  \\\n",
       "0  100-OgCreative,Energetic,Tingly,Euphoric,Relax...   \n",
       "1  98-White-WidowRelaxed,Aroused,Creative,Happy,E...   \n",
       "2  1024Uplifted,Happy,Relaxed,Energetic,Creative1...   \n",
       "3  13-DawgsTingly,Creative,Hungry,Relaxed,Uplifte...   \n",
       "4  24K-GoldHappy,Relaxed,Euphoric,Uplifted,Talkat...   \n",
       "\n",
       "                                        spaCy_tokens  \n",
       "0  ['100-ogcreative,energetic,tingly,euphoric,rel...  \n",
       "1  ['98-white-widowrelaxed,aroused,creative,happy...  \n",
       "2  ['1024uplifted,happy,relaxed,energetic,creativ...  \n",
       "3  ['13-dawgstingly,creative,hungry,relaxed,uplif...  \n",
       "4  ['24k-goldhappy,relaxed,euphoric,uplifted,talk...  "
      ]
     },
     "execution_count": 3,
     "metadata": {},
     "output_type": "execute_result"
    }
   ],
   "source": [
    "import pandas as pd\n",
    "\n",
    "canabis = pd.read_csv('canabis.csv')\n",
    "canabis.head()\n"
   ]
  },
  {
   "cell_type": "markdown",
   "metadata": {},
   "source": [
    "### Vector representation"
   ]
  },
  {
   "cell_type": "code",
   "execution_count": 4,
   "metadata": {},
   "outputs": [],
   "source": [
    "from sklearn.feature_extraction.text import CountVectorizer, TfidfVectorizer,TfidfTransformer"
   ]
  },
  {
   "cell_type": "code",
   "execution_count": 5,
   "metadata": {},
   "outputs": [],
   "source": [
    "def gather_data(df_column):\n",
    "    \"\"\" Produces List of Documents from a df column    \n",
    "    returns list of strings \n",
    "    \"\"\"\n",
    "    \n",
    "    #data = []\n",
    "    \n",
    "#     for row in df_column:\n",
    "#         data.append(' '.join(str(row))\n",
    "    data = [''.join(str(item)) for item in df_column]\n",
    "        \n",
    "    \n",
    "    return data"
   ]
  },
  {
   "cell_type": "code",
   "execution_count": 6,
   "metadata": {},
   "outputs": [
    {
     "data": {
      "text/plain": [
       "\"['100-ogcreative,energetic,tingly,euphoric,relaxed$100', 'og', '50/50', 'hybrid', 'strain', 'packs', 'strong', 'punch.', 'supposedly', 'refers', 'strength', 'high', 'price', 'started', 'showing', 'hollywood.', 'plant,', '$100', 'og', 'tends', 'produce', 'large', 'dark', 'green', 'buds', 'stems.', 'users', 'report', 'strong', 'body', 'effect', 'indica', 'pain', 'relief', 'alert,', 'cerebral', 'feeling', 'thanks', 'sativa', 'side.earthy,sweet,citrus']\""
      ]
     },
     "execution_count": 6,
     "metadata": {},
     "output_type": "execute_result"
    }
   ],
   "source": [
    "data = gather_data(canabis['spaCy_tokens'])\n",
    "data[0]"
   ]
  },
  {
   "cell_type": "code",
   "execution_count": 7,
   "metadata": {},
   "outputs": [
    {
     "name": "stdout",
     "output_type": "stream",
     "text": [
      "(2351, 12066)\n"
     ]
    }
   ],
   "source": [
    "from sklearn.feature_extraction.text import CountVectorizer\n",
    "\n",
    "# create the transformer\n",
    "vect = CountVectorizer()\n",
    "\n",
    "# build vocab\n",
    "\n",
    "vect.fit(data)\n",
    "\n",
    "# transform text\n",
    "dtm = vect.transform(data)\n",
    "print(dtm.shape)"
   ]
  },
  {
   "cell_type": "code",
   "execution_count": 8,
   "metadata": {},
   "outputs": [
    {
     "data": {
      "text/html": [
       "<div>\n",
       "<style scoped>\n",
       "    .dataframe tbody tr th:only-of-type {\n",
       "        vertical-align: middle;\n",
       "    }\n",
       "\n",
       "    .dataframe tbody tr th {\n",
       "        vertical-align: top;\n",
       "    }\n",
       "\n",
       "    .dataframe thead th {\n",
       "        text-align: right;\n",
       "    }\n",
       "</style>\n",
       "<table border=\"1\" class=\"dataframe\">\n",
       "  <thead>\n",
       "    <tr style=\"text-align: right;\">\n",
       "      <th></th>\n",
       "      <th>10</th>\n",
       "      <th>20</th>\n",
       "      <th>50</th>\n",
       "      <th>60</th>\n",
       "      <th>70</th>\n",
       "      <th>active</th>\n",
       "      <th>afghani</th>\n",
       "      <th>alien</th>\n",
       "      <th>anxiety</th>\n",
       "      <th>appetite</th>\n",
       "      <th>...</th>\n",
       "      <th>way</th>\n",
       "      <th>week</th>\n",
       "      <th>weeks</th>\n",
       "      <th>white</th>\n",
       "      <th>white widow</th>\n",
       "      <th>widow</th>\n",
       "      <th>won</th>\n",
       "      <th>woody</th>\n",
       "      <th>yield</th>\n",
       "      <th>yields</th>\n",
       "    </tr>\n",
       "  </thead>\n",
       "  <tbody>\n",
       "    <tr>\n",
       "      <th>0</th>\n",
       "      <td>0.0</td>\n",
       "      <td>0.0</td>\n",
       "      <td>0.41917</td>\n",
       "      <td>0.000000</td>\n",
       "      <td>0.0</td>\n",
       "      <td>0.0</td>\n",
       "      <td>0.0</td>\n",
       "      <td>0.0</td>\n",
       "      <td>0.0</td>\n",
       "      <td>0.000000</td>\n",
       "      <td>...</td>\n",
       "      <td>0.0</td>\n",
       "      <td>0.0</td>\n",
       "      <td>0.0</td>\n",
       "      <td>0.000000</td>\n",
       "      <td>0.000000</td>\n",
       "      <td>0.000000</td>\n",
       "      <td>0.0</td>\n",
       "      <td>0.000000</td>\n",
       "      <td>0.0</td>\n",
       "      <td>0.0</td>\n",
       "    </tr>\n",
       "    <tr>\n",
       "      <th>1</th>\n",
       "      <td>0.0</td>\n",
       "      <td>0.0</td>\n",
       "      <td>0.00000</td>\n",
       "      <td>0.000000</td>\n",
       "      <td>0.0</td>\n",
       "      <td>0.0</td>\n",
       "      <td>0.0</td>\n",
       "      <td>0.0</td>\n",
       "      <td>0.0</td>\n",
       "      <td>0.000000</td>\n",
       "      <td>...</td>\n",
       "      <td>0.0</td>\n",
       "      <td>0.0</td>\n",
       "      <td>0.0</td>\n",
       "      <td>0.473365</td>\n",
       "      <td>0.484928</td>\n",
       "      <td>0.482294</td>\n",
       "      <td>0.0</td>\n",
       "      <td>0.000000</td>\n",
       "      <td>0.0</td>\n",
       "      <td>0.0</td>\n",
       "    </tr>\n",
       "    <tr>\n",
       "      <th>2</th>\n",
       "      <td>0.0</td>\n",
       "      <td>0.0</td>\n",
       "      <td>0.00000</td>\n",
       "      <td>0.000000</td>\n",
       "      <td>0.0</td>\n",
       "      <td>0.0</td>\n",
       "      <td>0.0</td>\n",
       "      <td>0.0</td>\n",
       "      <td>0.0</td>\n",
       "      <td>0.000000</td>\n",
       "      <td>...</td>\n",
       "      <td>0.0</td>\n",
       "      <td>0.0</td>\n",
       "      <td>0.0</td>\n",
       "      <td>0.000000</td>\n",
       "      <td>0.000000</td>\n",
       "      <td>0.000000</td>\n",
       "      <td>0.0</td>\n",
       "      <td>0.152928</td>\n",
       "      <td>0.0</td>\n",
       "      <td>0.0</td>\n",
       "    </tr>\n",
       "    <tr>\n",
       "      <th>3</th>\n",
       "      <td>0.0</td>\n",
       "      <td>0.0</td>\n",
       "      <td>0.00000</td>\n",
       "      <td>0.000000</td>\n",
       "      <td>0.0</td>\n",
       "      <td>0.0</td>\n",
       "      <td>0.0</td>\n",
       "      <td>0.0</td>\n",
       "      <td>0.0</td>\n",
       "      <td>0.181631</td>\n",
       "      <td>...</td>\n",
       "      <td>0.0</td>\n",
       "      <td>0.0</td>\n",
       "      <td>0.0</td>\n",
       "      <td>0.000000</td>\n",
       "      <td>0.000000</td>\n",
       "      <td>0.000000</td>\n",
       "      <td>0.0</td>\n",
       "      <td>0.161667</td>\n",
       "      <td>0.0</td>\n",
       "      <td>0.0</td>\n",
       "    </tr>\n",
       "    <tr>\n",
       "      <th>4</th>\n",
       "      <td>0.0</td>\n",
       "      <td>0.0</td>\n",
       "      <td>0.00000</td>\n",
       "      <td>0.188204</td>\n",
       "      <td>0.0</td>\n",
       "      <td>0.0</td>\n",
       "      <td>0.0</td>\n",
       "      <td>0.0</td>\n",
       "      <td>0.0</td>\n",
       "      <td>0.000000</td>\n",
       "      <td>...</td>\n",
       "      <td>0.0</td>\n",
       "      <td>0.0</td>\n",
       "      <td>0.0</td>\n",
       "      <td>0.000000</td>\n",
       "      <td>0.000000</td>\n",
       "      <td>0.000000</td>\n",
       "      <td>0.0</td>\n",
       "      <td>0.000000</td>\n",
       "      <td>0.0</td>\n",
       "      <td>0.0</td>\n",
       "    </tr>\n",
       "  </tbody>\n",
       "</table>\n",
       "<p>5 rows × 412 columns</p>\n",
       "</div>"
      ],
      "text/plain": [
       "    10   20       50        60   70  active  afghani  alien  anxiety  \\\n",
       "0  0.0  0.0  0.41917  0.000000  0.0     0.0      0.0    0.0      0.0   \n",
       "1  0.0  0.0  0.00000  0.000000  0.0     0.0      0.0    0.0      0.0   \n",
       "2  0.0  0.0  0.00000  0.000000  0.0     0.0      0.0    0.0      0.0   \n",
       "3  0.0  0.0  0.00000  0.000000  0.0     0.0      0.0    0.0      0.0   \n",
       "4  0.0  0.0  0.00000  0.188204  0.0     0.0      0.0    0.0      0.0   \n",
       "\n",
       "   appetite  ...  way  week  weeks     white  white widow     widow  won  \\\n",
       "0  0.000000  ...  0.0   0.0    0.0  0.000000     0.000000  0.000000  0.0   \n",
       "1  0.000000  ...  0.0   0.0    0.0  0.473365     0.484928  0.482294  0.0   \n",
       "2  0.000000  ...  0.0   0.0    0.0  0.000000     0.000000  0.000000  0.0   \n",
       "3  0.181631  ...  0.0   0.0    0.0  0.000000     0.000000  0.000000  0.0   \n",
       "4  0.000000  ...  0.0   0.0    0.0  0.000000     0.000000  0.000000  0.0   \n",
       "\n",
       "      woody  yield  yields  \n",
       "0  0.000000    0.0     0.0  \n",
       "1  0.000000    0.0     0.0  \n",
       "2  0.152928    0.0     0.0  \n",
       "3  0.161667    0.0     0.0  \n",
       "4  0.000000    0.0     0.0  \n",
       "\n",
       "[5 rows x 412 columns]"
      ]
     },
     "execution_count": 8,
     "metadata": {},
     "output_type": "execute_result"
    }
   ],
   "source": [
    "# Tunning Parameters\n",
    "\n",
    "# Instantiate vectorizer object\n",
    "tfidf = TfidfVectorizer(stop_words='english',\n",
    "                         ngram_range = (1,3),\n",
    "                        max_df=.98,\n",
    "                        min_df=0.025)\n",
    "                        #tokenizer=tokenize)\n",
    "\n",
    "# Create a vocabulary and get word counts per document\n",
    "dtm = tfidf.fit_transform(data)\n",
    "\n",
    "\n",
    "# Get feature names to use as dataframe column headers\n",
    "dtm = pd.DataFrame(dtm.todense(), columns=tfidf.get_feature_names())\n",
    "\n",
    "# View Feature Matrix as DataFrame\n",
    "dtm.head()"
   ]
  },
  {
   "cell_type": "code",
   "execution_count": 9,
   "metadata": {},
   "outputs": [
    {
     "data": {
      "text/plain": [
       "NearestNeighbors(algorithm='kd_tree', leaf_size=30, metric='minkowski',\n",
       "                 metric_params=None, n_jobs=None, n_neighbors=5, p=2,\n",
       "                 radius=1.0)"
      ]
     },
     "execution_count": 9,
     "metadata": {},
     "output_type": "execute_result"
    }
   ],
   "source": [
    "from sklearn.neighbors import NearestNeighbors\n",
    "\n",
    "# Fit on TF-IDF Vectors\n",
    "nn  = NearestNeighbors(n_neighbors=5, algorithm='kd_tree')\n",
    "nn.fit(dtm)"
   ]
  },
  {
   "cell_type": "code",
   "execution_count": 15,
   "metadata": {},
   "outputs": [
    {
     "data": {
      "text/plain": [
       "array([[2000, 2009, 2017, 2012, 1842]], dtype=int64)"
      ]
     },
     "execution_count": 15,
     "metadata": {},
     "output_type": "execute_result"
    }
   ],
   "source": [
    "# Test model\n",
    "\n",
    "fake_input = ['hybrid happy strawberry']\n",
    "fake_dense = tfidf.transform(fake_input)\n",
    "_, fake_output = nn.kneighbors(fake_dense.todense())\n",
    "\n",
    "fake_output"
   ]
  },
  {
   "cell_type": "code",
   "execution_count": 16,
   "metadata": {},
   "outputs": [
    {
     "data": {
      "text/html": [
       "<div>\n",
       "<style scoped>\n",
       "    .dataframe tbody tr th:only-of-type {\n",
       "        vertical-align: middle;\n",
       "    }\n",
       "\n",
       "    .dataframe tbody tr th {\n",
       "        vertical-align: top;\n",
       "    }\n",
       "\n",
       "    .dataframe thead th {\n",
       "        text-align: right;\n",
       "    }\n",
       "</style>\n",
       "<table border=\"1\" class=\"dataframe\">\n",
       "  <thead>\n",
       "    <tr style=\"text-align: right;\">\n",
       "      <th></th>\n",
       "      <th>Strain</th>\n",
       "      <th>Effects</th>\n",
       "      <th>Flavor</th>\n",
       "      <th>Description</th>\n",
       "    </tr>\n",
       "  </thead>\n",
       "  <tbody>\n",
       "    <tr>\n",
       "      <th>2000</th>\n",
       "      <td>Strawberry-Amnesia</td>\n",
       "      <td>Creative,Relaxed,Uplifted,Euphoric,Energetic</td>\n",
       "      <td>Strawberry,Sweet,Earthy</td>\n",
       "      <td>A powerful and uplifting flower from Dinafem S...</td>\n",
       "    </tr>\n",
       "    <tr>\n",
       "      <th>2009</th>\n",
       "      <td>Strawberry-Fields</td>\n",
       "      <td>Relaxed,Happy,Uplifted,Hungry,Euphoric</td>\n",
       "      <td>Strawberry,Sweet,Berry</td>\n",
       "      <td>Strawberry Fields by Sagarmatha Seeds is an in...</td>\n",
       "    </tr>\n",
       "    <tr>\n",
       "      <th>2017</th>\n",
       "      <td>Strawberry-Satori</td>\n",
       "      <td>Uplifted,Creative,Relaxed,Happy,Energetic</td>\n",
       "      <td>Strawberry,Berry,Pungent</td>\n",
       "      <td>Strawberry Satori is a mostly sativa strain, f...</td>\n",
       "    </tr>\n",
       "    <tr>\n",
       "      <th>2012</th>\n",
       "      <td>Strawberry-Kush</td>\n",
       "      <td>Relaxed,Happy,Sleepy,Uplifted,Euphoric</td>\n",
       "      <td>Strawberry,Sweet,Pungent</td>\n",
       "      <td>Strong and sweet, Strawberry Kush is one well-...</td>\n",
       "    </tr>\n",
       "    <tr>\n",
       "      <th>1842</th>\n",
       "      <td>Sequoia-Strawberry</td>\n",
       "      <td>Uplifted,Relaxed,Energetic,Euphoric,Focused</td>\n",
       "      <td>Strawberry,Sweet,Pine</td>\n",
       "      <td>Sequoia Strawberry by SinCity Seeds is a sativ...</td>\n",
       "    </tr>\n",
       "  </tbody>\n",
       "</table>\n",
       "</div>"
      ],
      "text/plain": [
       "                  Strain                                       Effects  \\\n",
       "2000  Strawberry-Amnesia  Creative,Relaxed,Uplifted,Euphoric,Energetic   \n",
       "2009   Strawberry-Fields        Relaxed,Happy,Uplifted,Hungry,Euphoric   \n",
       "2017   Strawberry-Satori     Uplifted,Creative,Relaxed,Happy,Energetic   \n",
       "2012     Strawberry-Kush        Relaxed,Happy,Sleepy,Uplifted,Euphoric   \n",
       "1842  Sequoia-Strawberry   Uplifted,Relaxed,Energetic,Euphoric,Focused   \n",
       "\n",
       "                        Flavor  \\\n",
       "2000   Strawberry,Sweet,Earthy   \n",
       "2009    Strawberry,Sweet,Berry   \n",
       "2017  Strawberry,Berry,Pungent   \n",
       "2012  Strawberry,Sweet,Pungent   \n",
       "1842     Strawberry,Sweet,Pine   \n",
       "\n",
       "                                            Description  \n",
       "2000  A powerful and uplifting flower from Dinafem S...  \n",
       "2009  Strawberry Fields by Sagarmatha Seeds is an in...  \n",
       "2017  Strawberry Satori is a mostly sativa strain, f...  \n",
       "2012  Strong and sweet, Strawberry Kush is one well-...  \n",
       "1842  Sequoia Strawberry by SinCity Seeds is a sativ...  "
      ]
     },
     "execution_count": 16,
     "metadata": {},
     "output_type": "execute_result"
    }
   ],
   "source": [
    "# Convert to train information\n",
    "\n",
    "response = canabis[['Strain', 'Effects', 'Flavor', 'Description']].iloc[fake_output[0]]\n",
    "response"
   ]
  },
  {
   "cell_type": "code",
   "execution_count": 17,
   "metadata": {},
   "outputs": [
    {
     "data": {
      "text/plain": [
       "'[{\"Strain\":\"Strawberry-Amnesia\",\"Effects\":\"Creative,Relaxed,Uplifted,Euphoric,Energetic\",\"Flavor\":\"Strawberry,Sweet,Earthy\",\"Description\":\"A powerful and uplifting flower from Dinafem Seeds, Strawberry Amnesia is a strain made in sativa heaven.\\\\u00a0Bred from Strawberry Cough and Amnesia, this strain delivers the familiar sweet strawberry and earthy flavors of its parents.\\\\u00a0Having the typical energizing and euphoric effects of a sativa, Strawberry Amnesia also induces the calming body high from its distant indica relatives. The dark green buds of Strawberry Amnesia are very dense and heavily coated in resin, so this potent sativa should be handled with caution.\\\\u00a0\\\\u00a0\"},{\"Strain\":\"Strawberry-Fields\",\"Effects\":\"Relaxed,Happy,Uplifted,Hungry,Euphoric\",\"Flavor\":\"Strawberry,Sweet,Berry\",\"Description\":\"Strawberry Fields by Sagarmatha Seeds is an indica-dominant hybrid strain that takes the flavorful Strawberry Cough and crosses it with an undisclosed indica parent. This strain is destined for consumers who love that strawberry aroma, but would prefer something more tranquilizing than the Strawberry Cough sativa. Its heavier effects also make Strawberry Fields a better choice for patients treating pain, insomnia, and appetite loss.\"},{\"Strain\":\"Strawberry-Satori\",\"Effects\":\"Uplifted,Creative,Relaxed,Happy,Energetic\",\"Flavor\":\"Strawberry,Berry,Pungent\",\"Description\":\"Strawberry Satori is a mostly\\\\u00a0sativa\\\\u00a0strain, fathered by Satori and mothered\\\\u00a0by\\\\u00a0Strawberry Cough. With a sweet grape and strawberry aroma, these buds deliver uplifting, creative effects that are especially useful in treating anxiety and PTSD. In fact, Strawberry Satori was bred as an anti-anxiety medication by prioritizing the\\\\u00a0presence of Linalool, a calming terpene that affects GABA receptors.\"},{\"Strain\":\"Strawberry-Kush\",\"Effects\":\"Relaxed,Happy,Sleepy,Uplifted,Euphoric\",\"Flavor\":\"Strawberry,Sweet,Pungent\",\"Description\":\"Strong and sweet, Strawberry Kush is one well-rounded lady. Featuring a musky imitation strawberry taste, this strain lives up to its lineage. Typically found as a cross between the sweet Strawberry Cough and the pungent OG Kush, Strawberry Kush is strong but not overpowering. A potent indica for novice consumers, it\\\\u2019s a sleepy strain that produces a calming heavy body sensation. The genetics for this strain may vary by dispensary. Some dispensaries carry more hybrid or sativa-dominant versions, which may produce opposite, energizing effects. For growers, Strawberry Kush is available by clone only and typically flowers between 8 and 9 weeks.\"},{\"Strain\":\"Sequoia-Strawberry\",\"Effects\":\"Uplifted,Relaxed,Energetic,Euphoric,Focused\",\"Flavor\":\"Strawberry,Sweet,Pine\",\"Description\":\"Sequoia Strawberry by SinCity Seeds is a sativa-dominant strain with strong motivating attributes. The genetic offspring of White Strawberry and White Nightmare, Sequoia Strawberry delivers a delicious aroma of strawberry candy with a slightly hashy undertone. Its invigorating effects lend themselves to chores, outdoor activity, and exercise. Sequoia Strawberry is also known for its phenomenal yield and snappy 60-day grow cycle. \\\\u00a0 \\\\u00a0\"}]'"
      ]
     },
     "execution_count": 17,
     "metadata": {},
     "output_type": "execute_result"
    }
   ],
   "source": [
    "# Example conversion to JSON\n",
    "\n",
    "response.to_json(orient='records')"
   ]
  },
  {
   "cell_type": "code",
   "execution_count": null,
   "metadata": {},
   "outputs": [],
   "source": [
    "# # Create pickles of the model and the transformer for web deployment\n",
    "\n",
    "# # Imports\n",
    "# import pickle\n",
    "# from sklearn.externals import joblib \n",
    "\n",
    "# # Save the model as a pickle file \n",
    "# joblib.dump(nn, 'nn02_model.pkl') \n",
    "\n",
    "# # Save the transformer as a pickle file\n",
    "# joblib.dump(tf, 'tf_01.pkl')"
   ]
  }
 ],
 "metadata": {
  "kernelspec": {
   "display_name": "U4-NLP (Python3)",
   "language": "python",
   "name": "u4-nlp"
  },
  "language_info": {
   "codemirror_mode": {
    "name": "ipython",
    "version": 3
   },
   "file_extension": ".py",
   "mimetype": "text/x-python",
   "name": "python",
   "nbconvert_exporter": "python",
   "pygments_lexer": "ipython3",
   "version": "3.7.0"
  }
 },
 "nbformat": 4,
 "nbformat_minor": 4
}
