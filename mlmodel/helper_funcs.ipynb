{
 "cells": [
  {
   "cell_type": "code",
   "execution_count": null,
   "metadata": {},
   "outputs": [],
   "source": [
    "@app.route('/track/<track_id>', methods = [\"GET\",\"POST\"])\n",
    "def convert_csv(input.json):\n",
    "    # Opening JSON file and loading the data \n",
    "    # into the variable data \n",
    "    with open('input.json') as json_file: \n",
    "    input = json.load(json_file)\n",
    "    canabis_input = input['can_details']\n",
    "    # now we will open a file for writing \n",
    "    data_file = open('data_file.csv', 'w') \n",
    "    # create the csv writer object \n",
    "    csv_writer = csv.writer(data_file)\n",
    "    \n",
    "    # Counter variable used for writing  \n",
    "    # headers to the CSV file \n",
    "    count = 0\n",
    "  \n",
    "    for emp in employee_data: \n",
    "        if count == 0: \n",
    "  \n",
    "           # Writing headers of CSV file \n",
    "           header = can.keys() \n",
    "           csv_writer.writerow(header) \n",
    "            count += 1\n",
    "  \n",
    "          # Writing data of CSV file \n",
    "          csv_writer.writerow(can.values()) \n",
    "  \n",
    "          data_file.close() \n",
    "    return add_columns(data_file)\n",
    "    "
   ]
  },
  {
   "cell_type": "code",
   "execution_count": null,
   "metadata": {},
   "outputs": [],
   "source": [
    "def add_columns(data_file):\n",
    "    data_file['total_text']=data_file['Strain'] + data_file['Effects'] + data_file['Description']+data_file[\"Flavor\"]\n",
    "    return call_model(data_file['total_text'])"
   ]
  },
  {
   "cell_type": "code",
   "execution_count": null,
   "metadata": {},
   "outputs": [],
   "source": [
    "def call_model(data_file['total_text'])\n",
    "    vector = load(open(vector.pkl),'rb')\n",
    "    vector_trans = vector.transform(data_file['total_text'])\n",
    "    model = load(open(knn_model.pkl),'rb')\n",
    "    _,preds = model.kneighbors(vector_trans.todense())\n",
    "    response = can[['Strain', 'Effects', 'Flavor', 'Description']].iloc[preds[0]]\n",
    "    response.to_json(orient='records')\n",
    "    return response\n",
    "    "
   ]
  },
  {
   "cell_type": "code",
   "execution_count": null,
   "metadata": {},
   "outputs": [],
   "source": []
  },
  {
   "cell_type": "code",
   "execution_count": null,
   "metadata": {},
   "outputs": [],
   "source": []
  },
  {
   "cell_type": "code",
   "execution_count": null,
   "metadata": {},
   "outputs": [],
   "source": []
  },
  {
   "cell_type": "code",
   "execution_count": null,
   "metadata": {},
   "outputs": [],
   "source": []
  }
 ],
 "metadata": {
  "kernelspec": {
   "display_name": "U4-NLP (Python3)",
   "language": "python",
   "name": "u4-nlp"
  },
  "language_info": {
   "codemirror_mode": {
    "name": "ipython",
    "version": 3
   },
   "file_extension": ".py",
   "mimetype": "text/x-python",
   "name": "python",
   "nbconvert_exporter": "python",
   "pygments_lexer": "ipython3",
   "version": "3.7.0"
  }
 },
 "nbformat": 4,
 "nbformat_minor": 4
}
